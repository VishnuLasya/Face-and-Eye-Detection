{
 "cells": [
  {
   "cell_type": "code",
   "execution_count": 1,
   "metadata": {},
   "outputs": [],
   "source": [
    "import cv2\n"
   ]
  },
  {
   "cell_type": "code",
   "execution_count": 3,
   "metadata": {},
   "outputs": [
    {
     "name": "stdout",
     "output_type": "stream",
     "text": [
      "hi\n",
      "hi\n",
      "hi\n",
      "hi\n",
      "hi\n",
      "hi\n",
      "hi\n",
      "face detected\n",
      "face detected\n",
      "face detected\n",
      "face detected\n",
      "face detected\n",
      "face detected\n",
      "face detected\n"
     ]
    }
   ],
   "source": [
    "#face detection\n",
    "face_classifier = cv2.CascadeClassifier('D:\\\\Extra\\\\Krish\\\\open cv face detecteion\\\\haarcascade_frontalface_default.xml')\n",
    "\n",
    "image = cv2.imread('D:\\\\Extra\\\\Krish\\\\open cv face detecteion\\\\friendz.jpg')\n",
    "gray=cv2.cvtColor(image,cv2.COLOR_BGR2GRAY)\n",
    "\n",
    "faces= face_classifier.detectMultiScale(gray,1.08,5)\n",
    "\n",
    "for a,b,c,d in faces:\n",
    "    print(\"hi\")\n",
    "    if a==0 and b==0 and c==0 and d==0:\n",
    "        print('no faces detected')\n",
    "    \n",
    "    \n",
    "for x,y,w,h in faces:\n",
    "    cv2.rectangle(image,(x,y),(x+w,y+h),(107,78,277),2)\n",
    "    cv2.imshow('Face Detection', image)\n",
    "    print('face detected')\n",
    "    cv2.waitKey(2000)\n",
    "cv2.destroyAllWindows()    "
   ]
  },
  {
   "cell_type": "markdown",
   "metadata": {},
   "source": [
    "## Tuning Cascade Classifiers\n",
    "ourClassifier.detectMultiScale(input image, Scale Factor , Min Neighbors)\n",
    "\n",
    "Scale Factor Specifies how much we reduce the image size each time we scale. E.g. in face detection we typically use 1.3. This means we reduce the image by 30% each time it’s scaled. Smaller values, like 1.05 will take longer to compute, but will increase the rate of detection.\n",
    "\n",
    "Min Neighbors Specifies the number of neighbors each potential window should have in order to consider it a positive detection. Typically set between 3-6. It acts as sensitivity setting, low values will sometimes detect multiples faces over a single face. High values will ensure less false positives, but you may miss some faces."
   ]
  },
  {
   "cell_type": "code",
   "execution_count": 4,
   "metadata": {},
   "outputs": [
    {
     "name": "stdout",
     "output_type": "stream",
     "text": [
      "hi\n",
      "hi\n",
      "hi\n",
      "hi\n",
      "face detected\n",
      "eye detected\n",
      "eye detected\n",
      "face detected\n",
      "face detected\n",
      "face detected\n"
     ]
    }
   ],
   "source": [
    "#face and eye detection\n",
    "face_classifier = cv2.CascadeClassifier('D:\\\\Extra\\\\Krish\\\\open cv face detecteion\\\\haarcascade_frontalface_default.xml')\n",
    "eye_classifier=cv2.CascadeClassifier('D:\\\\Extra\\\\Krish\\\\open cv face detecteion\\\\haarcascade_eye.xml')\n",
    "image = cv2.imread('D:\\\\Extra\\\\Krish\\\\open cv face detecteion\\\\vl.png')\n",
    "gray=cv2.cvtColor(image,cv2.COLOR_BGR2GRAY)\n",
    "\n",
    "faces= face_classifier.detectMultiScale(gray,1.05,5)\n",
    "\n",
    "for a,b,c,d in faces:\n",
    "    print(\"hi\")\n",
    "    if a==0 and b==0 and c==0 and d==0:\n",
    "        print('no faces detected')\n",
    "    \n",
    "    \n",
    "for x,y,w,h in faces:\n",
    "    cv2.rectangle(image,(x,y),(x+w,y+h),(107,78,277),2)\n",
    "    cv2.imshow('img', image)\n",
    "    print('face detected')\n",
    "    cv2.waitKey(1000)\n",
    "    gray_roi=gray[y:y+h,x:x+w]\n",
    "    color_roi=image[y:y+h,x:x+w]\n",
    "    eyes=eye_classifier.detectMultiScale(gray_roi,1.3,6)\n",
    "    for ex,ey,ew,eh in eyes:\n",
    "        cv2.rectangle(color_roi,(ex,ey),(ex+ew,ey+eh),(255,255,0),2)\n",
    "        cv2.imshow('img', image)\n",
    "        print('eye detected')\n",
    "        cv2.waitKey(1000)\n",
    "        \n",
    "  \n",
    "cv2.destroyAllWindows()    "
   ]
  },
  {
   "cell_type": "code",
   "execution_count": 5,
   "metadata": {},
   "outputs": [
    {
     "name": "stdout",
     "output_type": "stream",
     "text": [
      "hi\n",
      "hi\n",
      "hi\n",
      "hi\n",
      "hi\n",
      "hi\n",
      "hi\n",
      "face detected\n",
      "eye detected\n",
      "eye detected\n",
      "face detected\n",
      "eye detected\n",
      "eye detected\n",
      "face detected\n",
      "eye detected\n",
      "eye detected\n",
      "face detected\n",
      "eye detected\n",
      "eye detected\n",
      "face detected\n",
      "face detected\n",
      "eye detected\n",
      "eye detected\n",
      "face detected\n",
      "eye detected\n"
     ]
    }
   ],
   "source": [
    "#face and eye detection\n",
    "face_classifier = cv2.CascadeClassifier('D:\\\\Extra\\\\Krish\\\\open cv face detecteion\\\\haarcascade_frontalface_default.xml')\n",
    "eye_classifier=cv2.CascadeClassifier('D:\\\\Extra\\\\Krish\\\\open cv face detecteion\\\\haarcascade_eye.xml')\n",
    "image = cv2.imread('D:\\\\Extra\\\\Krish\\\\open cv face detecteion\\\\friendz.jpg')\n",
    "gray=cv2.cvtColor(image,cv2.COLOR_BGR2GRAY)\n",
    "\n",
    "faces= face_classifier.detectMultiScale(gray,1.08,5)\n",
    "\n",
    "for a,b,c,d in faces:\n",
    "    print(\"hi\")\n",
    "    if a==0 and b==0 and c==0 and d==0:\n",
    "        print('no faces detected')\n",
    "    \n",
    "    \n",
    "for x,y,w,h in faces:\n",
    "    cv2.rectangle(image,(x,y),(x+w,y+h),(107,78,277),2)\n",
    "    cv2.imshow('img', image)\n",
    "    print('face detected')\n",
    "    cv2.waitKey(1000)\n",
    "    gray_roi=gray[y:y+h,x:x+w]\n",
    "    color_roi=image[y:y+h,x:x+w]\n",
    "    eyes=eye_classifier.detectMultiScale(gray_roi,1.05,6)\n",
    "    for ex,ey,ew,eh in eyes:\n",
    "        cv2.rectangle(color_roi,(ex,ey),(ex+ew,ey+eh),(255,255,0),2)\n",
    "        cv2.imshow('img', image)\n",
    "        print('eye detected')\n",
    "        cv2.waitKey(1000)\n",
    "        \n",
    "  \n",
    "cv2.destroyAllWindows()   "
   ]
  },
  {
   "cell_type": "code",
   "execution_count": null,
   "metadata": {},
   "outputs": [],
   "source": []
  }
 ],
 "metadata": {
  "kernelspec": {
   "display_name": "Python 3 (ipykernel)",
   "language": "python",
   "name": "python3"
  },
  "language_info": {
   "codemirror_mode": {
    "name": "ipython",
    "version": 3
   },
   "file_extension": ".py",
   "mimetype": "text/x-python",
   "name": "python",
   "nbconvert_exporter": "python",
   "pygments_lexer": "ipython3",
   "version": "3.8.5"
  }
 },
 "nbformat": 4,
 "nbformat_minor": 4
}
